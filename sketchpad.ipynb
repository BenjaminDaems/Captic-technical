{
 "cells": [
  {
   "cell_type": "code",
   "execution_count": 70,
   "metadata": {},
   "outputs": [],
   "source": [
    "import cv2\n",
    "import numpy as np"
   ]
  },
  {
   "cell_type": "code",
   "execution_count": 71,
   "metadata": {},
   "outputs": [],
   "source": [
    "image_1_original = cv2.imread('images\\Screenshot_2023-10-28_at_14.32.45.png')\n",
    "image_2_original = cv2.imread('images\\Screenshot 2023-10-28 at 14.32.50.png')"
   ]
  },
  {
   "cell_type": "code",
   "execution_count": 72,
   "metadata": {},
   "outputs": [],
   "source": [
    "def crop_img(img):\n",
    "    #grayscale\n",
    "    image_grey = cv2.cvtColor(img, cv2.COLOR_BGR2GRAY)\n",
    "    #threshold\n",
    "    threshold = 120\n",
    "    thresh_mask = image_grey < threshold\n",
    "    image_grey[thresh_mask] = 255\n",
    "    image_grey[~thresh_mask] = 0\n",
    "    # crop using bounding box of thresholded image\n",
    "    rows = np.any(image_grey, axis=1)\n",
    "    cols = np.any(image_grey, axis=0)\n",
    "    rmin, rmax = np.where(rows)[0][[0, -1]]\n",
    "    cmin, cmax = np.where(cols)[0][[0, -1]]\n",
    "    return img[rmin:rmax, cmin:cmax]\n",
    "\n",
    "\n"
   ]
  },
  {
   "cell_type": "code",
   "execution_count": 73,
   "metadata": {},
   "outputs": [
    {
     "data": {
      "text/plain": [
       "True"
      ]
     },
     "execution_count": 73,
     "metadata": {},
     "output_type": "execute_result"
    }
   ],
   "source": [
    "crop_1 = crop_img(image_1_original)\n",
    "crop_2 = crop_img(image_2_original)\n",
    "\n",
    "cv2.imwrite('images\\crop_1.png', crop_1)\n",
    "cv2.imwrite('images\\crop_2.png', crop_2)"
   ]
  },
  {
   "cell_type": "code",
   "execution_count": 74,
   "metadata": {},
   "outputs": [],
   "source": [
    "from sklearn.cluster import KMeans"
   ]
  },
  {
   "cell_type": "code",
   "execution_count": 75,
   "metadata": {},
   "outputs": [],
   "source": [
    "def reduce_palette(img):\n",
    "    shape = img.shape\n",
    "    X = img.reshape(-1, 3)\n",
    "    kmeans = KMeans(n_clusters=6, random_state=42, n_init=10)\n",
    "    kmeans.fit(X)\n",
    "    reduced_palette = kmeans.cluster_centers_[kmeans.labels_]\n",
    "    return reduced_palette.reshape((shape))\n"
   ]
  },
  {
   "cell_type": "code",
   "execution_count": 76,
   "metadata": {},
   "outputs": [
    {
     "name": "stdout",
     "output_type": "stream",
     "text": [
      "4586\n",
      "6\n"
     ]
    }
   ],
   "source": [
    "reduced_1 = reduce_palette(crop_1)\n",
    "reduced_2 = reduce_palette(crop_2)\n",
    "\n",
    "cv2.imwrite('images/reduced_1.png', reduced_1)\n",
    "cv2.imwrite('images/reduced_2.png', reduced_2)\n",
    "\n",
    "# print distinct colors in cropped image\n",
    "print(len(np.unique(crop_1.reshape(-1, 3), axis=0)))\n",
    "print(len(np.unique(reduced_1.reshape(-1, 3), axis=0)))"
   ]
  }
 ],
 "metadata": {
  "kernelspec": {
   "display_name": ".venv",
   "language": "python",
   "name": "python3"
  },
  "language_info": {
   "codemirror_mode": {
    "name": "ipython",
    "version": 3
   },
   "file_extension": ".py",
   "mimetype": "text/x-python",
   "name": "python",
   "nbconvert_exporter": "python",
   "pygments_lexer": "ipython3",
   "version": "3.10.9"
  }
 },
 "nbformat": 4,
 "nbformat_minor": 2
}
